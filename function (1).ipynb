{
  "nbformat": 4,
  "nbformat_minor": 0,
  "metadata": {
    "colab": {
      "provenance": []
    },
    "kernelspec": {
      "name": "python3",
      "display_name": "Python 3"
    },
    "language_info": {
      "name": "python"
    }
  },
  "cells": [
    {
      "cell_type": "code",
      "execution_count": null,
      "metadata": {
        "id": "YAul0HN_R2p6"
      },
      "outputs": [],
      "source": []
    },
    {
      "cell_type": "markdown",
      "source": [
        "**functions theory questions and answers**\n",
        "1. What is the difference between a function and a method in Python?\n",
        "\n",
        " ans -Function vs Method in Python\n",
        "- Function: A block of code defined using def that can be called independently.\n",
        "- Method: A function that is associated with an object (usually a class instance).\n",
        "Example:\n",
        "\n",
        "def greet(name):  # Function\n",
        "    return f\"Hello {name}\"\n",
        "\n",
        "class Person:\n",
        "    def speak(self):  # Method\n",
        "        return \"I am speaking\"\n",
        "\n",
        "p = Person()\n",
        "print(greet(\"Arbaaz\"))  # Function call\n",
        "print(p.speak())        # Method call\n",
        "\n",
        "2. Explain the concept of function arguments and parameters in Python.\n",
        "\n",
        "  ans  -function Arguments and Parameters\n",
        "- Parameters are placeholders defined in the function signature.\n",
        "- Arguments are actual values passed to the function when called.\n",
        "Example:\n",
        "def add(x, y):  # x and y are parameters\n",
        "    return x + y\n",
        "\n",
        "add(5, 3)       # 5 and 3 are arguments\n",
        "\n",
        "3. What are the different ways to define and call a function in Python?\n",
        "\n",
        "  ans - Ways to Define and Call a Function\n",
        "- Define using def or lambda\n",
        "- Call by using the function name followed by parentheses\n",
        "Example:\n",
        "def square(n):\n",
        "    return n * n\n",
        "\n",
        "print(square(4))  # Traditional function\n",
        "\n",
        "double = lambda x: x * 2\n",
        "print(double(5))  # Lambda function\n",
        "\n",
        "4. What is the purpose of the `return` statement in a Python function?\n",
        "\n",
        "ans - Exits the function and optionally sends a value back to the caller.\n",
        "Example:\n",
        "def multiply(a, b):\n",
        "    return a * b\n",
        "\n",
        "result = multiply(2, 3)  # Returns 6\n",
        "\n",
        "5. What are iterators in Python and how do they differ from iterables?\n",
        "\n",
        "ans -  Iterators vs Iterables\n",
        "- Iterable: Any object you can loop over (e.g., list, string).\n",
        "- Iterator: An object with __next__() to fetch values one at a time.\n",
        "Example:\n",
        "nums = [1, 2, 3]       # Iterable\n",
        "it = iter(nums)        # Iterator created\n",
        "print(next(it))        # 1\n",
        "\n",
        "6. Explain the concept of generators in Python and how they are defined\n",
        "ans  - Functions using yield to produce a series of values lazily.\n",
        "  ex-\n",
        "def count_up_to(n):\n",
        "    i = 1\n",
        "    while i <= n:\n",
        "        yield i\n",
        "        i += 1\n",
        "\n",
        "7. What are the advantages of using generators over regular functions?\n",
        "\n",
        "ans -  Advantages of Generators\n",
        "- Memory-efficient (don’t store entire list in memory)\n",
        "- Useful for infinite data streams or large datasets\n",
        "Example: A generator to stream sensor data avoids memory overload compared to storing all data first.\n",
        "  \n",
        "8.What is a lambda function in Python and when is it typically used?   \n",
        "\n",
        "  ans -Lambda Function in Python\n",
        "- Anonymous, one-line function using lambda.\n",
        "Example:\n",
        "square = lambda x: x**2\n",
        "print(square(6))  # Output: 36\n",
        "\n",
        "\n",
        "Used in places like map(), filter(), or short callback functions.\n",
        "\n",
        "9. Explain the purpose and usage of the `map()` function in Python.\n",
        "\n",
        "  ans- Purpose and Usage of map()\n",
        "- Applies a function to each item in an iterable.\n",
        "Example:\n",
        "nums = [1, 2, 3]\n",
        "squared = map(lambda x: x**2, nums)\n",
        "print(list(squared))  # Output: [1, 4, 9]\n",
        "\n",
        "\n",
        "\n",
        "10.  What is the difference between `map()`, `reduce()`, and `filter()` functions in Python?\n",
        "\n",
        "   ans.-\n",
        "| Function | Purpose | Example |\n",
        "| map() | Transforms each item | map(lambda x: x*2, [1,2]) → [2,4] |\n",
        "| filter() | Filters items based on condition | filter(lambda x: x>2, [1,2,3]) → [3] |\n",
        "| reduce() | Applies rolling computation (needs functools) | reduce(lambda x,y: x+y, [1,2,3]) → 6\n",
        "\n",
        "\n",
        "\n"
      ],
      "metadata": {
        "id": "Tmo0i04QR5cB"
      }
    },
    {
      "cell_type": "code",
      "source": [
        "#1 Write a Python function that takes a list of numbers as input and returns the sum of all even numbers in the list.\n",
        "\n",
        "def sum_even_numbers(numbers):\n",
        "    sum_even = 0\n",
        "    for num in numbers:\n",
        "        if num % 2 == 0:\n",
        "            sum_even += num\n",
        "    return sum_even"
      ],
      "metadata": {
        "id": "bMcd1EvNa1vp"
      },
      "execution_count": 6,
      "outputs": []
    },
    {
      "cell_type": "code",
      "source": [
        "#2  Create a Python function that accepts a string and returns the reverse of that string\n",
        "def reverse_string(s):\n",
        "    return s[::-1]\n",
        "\n",
        "print(reverse_string(\"Arbaaz\"))"
      ],
      "metadata": {
        "colab": {
          "base_uri": "https://localhost:8080/"
        },
        "id": "JkewK54fZtG7",
        "outputId": "04e8d11e-b285-45bc-8a85-55d57b5b2f32"
      },
      "execution_count": 7,
      "outputs": [
        {
          "output_type": "stream",
          "name": "stdout",
          "text": [
            "zaabrA\n"
          ]
        }
      ]
    },
    {
      "cell_type": "code",
      "source": [
        "#3  Implement a Python function that takes a list of integers and returns a new list containing the squares ofeach number.\n",
        "def square_list(lst):\n",
        "    return [x**2 for x in lst]\n",
        "\n",
        "print(square_list([1, 2, 3, 4]))"
      ],
      "metadata": {
        "colab": {
          "base_uri": "https://localhost:8080/"
        },
        "id": "r9BmIuOZd7mC",
        "outputId": "9b204bd9-6a76-4841-a80e-e3b7410e4534"
      },
      "execution_count": 8,
      "outputs": [
        {
          "output_type": "stream",
          "name": "stdout",
          "text": [
            "[1, 4, 9, 16]\n"
          ]
        }
      ]
    },
    {
      "cell_type": "code",
      "source": [
        "#4  Write a Python function that checks if a given number is prime or not from 1 to 200.\n",
        "def is_prime(n):\n",
        "    if n < 2: return False\n",
        "    for i in range(2, int(n**0.5) + 1):\n",
        "        if n % i == 0: return False\n",
        "    return True\n",
        "\n",
        "# Example usage:\n",
        "primes = [n for n in range(1, 201) if is_prime(n)]\n",
        "print(primes)"
      ],
      "metadata": {
        "colab": {
          "base_uri": "https://localhost:8080/"
        },
        "id": "lQoTuoqaeWGF",
        "outputId": "c4c6af5c-2532-4f4e-9a69-8de02c9cd984"
      },
      "execution_count": 9,
      "outputs": [
        {
          "output_type": "stream",
          "name": "stdout",
          "text": [
            "[2, 3, 5, 7, 11, 13, 17, 19, 23, 29, 31, 37, 41, 43, 47, 53, 59, 61, 67, 71, 73, 79, 83, 89, 97, 101, 103, 107, 109, 113, 127, 131, 137, 139, 149, 151, 157, 163, 167, 173, 179, 181, 191, 193, 197, 199]\n"
          ]
        }
      ]
    },
    {
      "cell_type": "code",
      "source": [
        "#5 Create an iterator class in Python that generates the Fibonacci sequence up to a specified number of terms\n",
        "class Fibonacci:\n",
        "    def __init__(self, limit):\n",
        "        self.limit = limit\n",
        "        self.count = 0\n",
        "        self.a, self.b = 0, 1\n",
        "\n",
        "    def __iter__(self):\n",
        "        return self\n",
        "\n",
        "    def __next__(self):\n",
        "        if self.count >= self.limit:\n",
        "            raise StopIteration\n",
        "        value = self.a\n",
        "        self.a, self.b = self.b, self.a + self.b\n",
        "        self.count += 1\n",
        "        return value\n",
        "\n",
        "# Example:\n",
        "for num in Fibonacci(10):\n",
        "    print(num, end=' ')"
      ],
      "metadata": {
        "colab": {
          "base_uri": "https://localhost:8080/"
        },
        "id": "WH3N9WdaewsN",
        "outputId": "47dd5466-f54f-4f59-e40b-03a2f21f0003"
      },
      "execution_count": 10,
      "outputs": [
        {
          "output_type": "stream",
          "name": "stdout",
          "text": [
            "0 1 1 2 3 5 8 13 21 34 "
          ]
        }
      ]
    },
    {
      "cell_type": "code",
      "source": [
        "#6 Write a generator function in Python that yields the powers of 2 up to a given exponent.\n",
        "def powers_of_two(n):\n",
        "    for i in range(n + 1):\n",
        "        yield 2**i\n",
        "\n",
        "# Example:\n",
        "for val in powers_of_two(4):\n",
        "    print(val)  # 1, 2, 4, 8, 16\n"
      ],
      "metadata": {
        "colab": {
          "base_uri": "https://localhost:8080/"
        },
        "id": "jQDctCHOfHHd",
        "outputId": "735d182b-ec31-4356-f9c7-9507e7c2cc00"
      },
      "execution_count": 11,
      "outputs": [
        {
          "output_type": "stream",
          "name": "stdout",
          "text": [
            "1\n",
            "2\n",
            "4\n",
            "8\n",
            "16\n"
          ]
        }
      ]
    },
    {
      "cell_type": "code",
      "source": [
        "#7 . Implement a generator function that reads a file line by line and yields each line as a string.\n",
        "def read_lines(filepath):\n",
        "    with open(filepath, 'r') as f:\n",
        "        for line in f:\n",
        "            yield line.strip()\n",
        "\n",
        "# Example:\n",
        "# for line in read_lines(\"sample.txt\"):\n",
        "#     print(line)"
      ],
      "metadata": {
        "id": "sq-Re2ZDfT4t"
      },
      "execution_count": 12,
      "outputs": []
    },
    {
      "cell_type": "code",
      "source": [
        "#8  Use a lambda function in Python to sort a list of tuples based on the second element of each tuple\n",
        "data = [(1, 3), (2, 1), (4, 2)]\n",
        "sorted_data = sorted(data, key=lambda x: x[1])\n",
        "print(sorted_data)"
      ],
      "metadata": {
        "colab": {
          "base_uri": "https://localhost:8080/"
        },
        "id": "O082FsI_fjpX",
        "outputId": "141c0f92-241c-4720-c2b2-55bf70367916"
      },
      "execution_count": 13,
      "outputs": [
        {
          "output_type": "stream",
          "name": "stdout",
          "text": [
            "[(2, 1), (4, 2), (1, 3)]\n"
          ]
        }
      ]
    },
    {
      "cell_type": "code",
      "source": [
        "#9 Write a Python program that uses `map()` to convert a list of temperatures from Celsius to Fahrenheit\n",
        "celsius = [0, 20, 37, 100]\n",
        "fahrenheit = list(map(lambda c: (c * 9/5) + 32, celsius))\n",
        "print(fahrenheit)"
      ],
      "metadata": {
        "colab": {
          "base_uri": "https://localhost:8080/"
        },
        "id": "rByKOPQnf-Mo",
        "outputId": "f6f71930-d3cf-4252-ec83-db46d04c74ad"
      },
      "execution_count": 14,
      "outputs": [
        {
          "output_type": "stream",
          "name": "stdout",
          "text": [
            "[32.0, 68.0, 98.6, 212.0]\n"
          ]
        }
      ]
    },
    {
      "cell_type": "code",
      "source": [
        "#10 Create a Python program that uses `filter()` to remove all the vowels from a given string.\n",
        "def remove_vowels(s):\n",
        "    return ''.join(filter(lambda ch: ch.lower() not in 'aeiou', s))\n",
        "\n",
        "print(remove_vowels(\"Arbaaz Copilot Python\"))"
      ],
      "metadata": {
        "colab": {
          "base_uri": "https://localhost:8080/"
        },
        "id": "4my9WLQ0gumI",
        "outputId": "70db3fe6-d335-4d31-cd2c-ba3867591b30"
      },
      "execution_count": 15,
      "outputs": [
        {
          "output_type": "stream",
          "name": "stdout",
          "text": [
            "rbz Cplt Pythn\n"
          ]
        }
      ]
    }
  ]
}